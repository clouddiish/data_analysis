{
 "cells": [
  {
   "cell_type": "code",
   "execution_count": 1,
   "metadata": {},
   "outputs": [],
   "source": [
    "import sys\n",
    "\n",
    "PROJECT_ROOT_ABS_FILEPATH=\"c:\\\\Users\\\\Lenovo\\\\myFiles\\\\nauka\\\\studia\\\\sem6\\\\wybrane zagadnienia sztucznej inteligencji\\\\laby\\\\analiza_danych\"\n",
    "\n",
    "sys.path.append(PROJECT_ROOT_ABS_FILEPATH)"
   ]
  },
  {
   "cell_type": "code",
   "execution_count": 2,
   "metadata": {},
   "outputs": [],
   "source": [
    "import matplotlib.pyplot as plt\n",
    "\n",
    "from corrected_app.general.data_processing import denormalize_data\n",
    "from corrected_app.general.distance_calculation import get_euclidean_distance, get_manhattan_distance\n",
    "from corrected_app.general.results_analysis import get_cluster_size, get_avg_distance_from_centroid_in_a_cluster, get_max_distance_from_centroid_in_a_cluster\n",
    "from corrected_app.healthcare_noshows.healthcare_noshows_loop import healthcare_noshows_loop\n",
    "from corrected_app.healthcare_noshows.healthcare_noshows_normalization import healthcare_noshows_denormalize_row"
   ]
  },
  {
   "cell_type": "markdown",
   "metadata": {},
   "source": [
    "## Check the influence of number of clusters"
   ]
  },
  {
   "cell_type": "code",
   "execution_count": null,
   "metadata": {},
   "outputs": [
    {
     "ename": "TypeError",
     "evalue": "object of type 'NoneType' has no len()",
     "output_type": "error",
     "traceback": [
      "\u001b[31m---------------------------------------------------------------------------\u001b[39m",
      "\u001b[31mTypeError\u001b[39m                                 Traceback (most recent call last)",
      "\u001b[36mCell\u001b[39m\u001b[36m \u001b[39m\u001b[32mIn[4]\u001b[39m\u001b[32m, line 6\u001b[39m\n\u001b[32m      3\u001b[39m results = []\n\u001b[32m      5\u001b[39m \u001b[38;5;28;01mfor\u001b[39;00m k \u001b[38;5;129;01min\u001b[39;00m \u001b[38;5;28mrange\u001b[39m(\u001b[32m2\u001b[39m, \u001b[32m11\u001b[39m):\n\u001b[32m----> \u001b[39m\u001b[32m6\u001b[39m     clusters, centroids = \u001b[43mhealthcare_noshows_loop\u001b[49m\u001b[43m(\u001b[49m\u001b[43mno_of_iterations\u001b[49m\u001b[43m=\u001b[49m\u001b[32;43m10\u001b[39;49m\u001b[43m,\u001b[49m\u001b[43m \u001b[49m\u001b[43mno_of_clusters\u001b[49m\u001b[43m=\u001b[49m\u001b[43mk\u001b[49m\u001b[43m,\u001b[49m\u001b[43m \u001b[49m\u001b[43mcalculate_distance_function\u001b[49m\u001b[43m=\u001b[49m\u001b[43mget_euclidean_distance\u001b[49m\u001b[43m)\u001b[49m\n\u001b[32m      8\u001b[39m     cluster_sizes = [get_cluster_size(cluster) \u001b[38;5;28;01mfor\u001b[39;00m cluster \u001b[38;5;129;01min\u001b[39;00m clusters]\n\u001b[32m      9\u001b[39m     avg_distances = [get_avg_distance_from_centroid_in_a_cluster(cluster, centroids[i], [], get_euclidean_distance) \u001b[38;5;28;01mfor\u001b[39;00m i, cluster \u001b[38;5;129;01min\u001b[39;00m \u001b[38;5;28menumerate\u001b[39m(clusters)]\n",
      "\u001b[36mFile \u001b[39m\u001b[32mc:\\Users\\Lenovo\\myFiles\\nauka\\studia\\sem6\\wybrane zagadnienia sztucznej inteligencji\\laby\\analiza_danych\\corrected_app\\healthcare_noshows\\healthcare_noshows_loop.py:34\u001b[39m, in \u001b[36mhealthcare_noshows_loop\u001b[39m\u001b[34m(no_of_iterations, no_of_clusters, calculate_distance_function)\u001b[39m\n\u001b[32m     32\u001b[39m normalized_data = normalize_data(raw_data, healthcare_noshows_normalize_row)\n\u001b[32m     33\u001b[39m centroids = get_random_centroids(no_of_clusters, get_random_healthcare_noshows_attributes)\n\u001b[32m---> \u001b[39m\u001b[32m34\u001b[39m clusters = \u001b[43mget_clusters\u001b[49m\u001b[43m(\u001b[49m\u001b[43mcentroids\u001b[49m\u001b[43m,\u001b[49m\u001b[43m \u001b[49m\u001b[43mnormalized_data\u001b[49m\u001b[43m,\u001b[49m\u001b[43m \u001b[49m\u001b[43m[\u001b[49m\u001b[43m]\u001b[49m\u001b[43m,\u001b[49m\u001b[43m \u001b[49m\u001b[43mcalculate_distance_function\u001b[49m\u001b[43m)\u001b[49m\n\u001b[32m     36\u001b[39m \u001b[38;5;28;01mfor\u001b[39;00m i \u001b[38;5;129;01min\u001b[39;00m \u001b[38;5;28mrange\u001b[39m(no_of_iterations):\n\u001b[32m     37\u001b[39m     centroids = get_new_centroids(\n\u001b[32m     38\u001b[39m         clusters, get_new_healthcare_noshows_centroid, get_random_healthcare_noshows_attributes\n\u001b[32m     39\u001b[39m     )\n",
      "\u001b[36mFile \u001b[39m\u001b[32mc:\\Users\\Lenovo\\myFiles\\nauka\\studia\\sem6\\wybrane zagadnienia sztucznej inteligencji\\laby\\analiza_danych\\corrected_app\\general\\k_means.py:66\u001b[39m, in \u001b[36mget_clusters\u001b[39m\u001b[34m(centroids, datapoints, exclude_attributes_ids, calculate_distance_function)\u001b[39m\n\u001b[32m     63\u001b[39m clusters = [[] \u001b[38;5;28;01mfor\u001b[39;00m _ \u001b[38;5;129;01min\u001b[39;00m centroids]\n\u001b[32m     65\u001b[39m \u001b[38;5;28;01mfor\u001b[39;00m datapoint \u001b[38;5;129;01min\u001b[39;00m datapoints:\n\u001b[32m---> \u001b[39m\u001b[32m66\u001b[39m     closest_centroid_id = \u001b[43mget_closest_centroid_id\u001b[49m\u001b[43m(\u001b[49m\n\u001b[32m     67\u001b[39m \u001b[43m        \u001b[49m\u001b[43mcentroids\u001b[49m\u001b[43m,\u001b[49m\u001b[43m \u001b[49m\u001b[43mdatapoint\u001b[49m\u001b[43m,\u001b[49m\u001b[43m \u001b[49m\u001b[43mexclude_attributes_ids\u001b[49m\u001b[43m,\u001b[49m\u001b[43m \u001b[49m\u001b[43mcalculate_distance_function\u001b[49m\n\u001b[32m     68\u001b[39m \u001b[43m    \u001b[49m\u001b[43m)\u001b[49m\n\u001b[32m     69\u001b[39m     clusters[closest_centroid_id].append(datapoint)\n\u001b[32m     71\u001b[39m \u001b[38;5;28;01mreturn\u001b[39;00m clusters\n",
      "\u001b[36mFile \u001b[39m\u001b[32mc:\\Users\\Lenovo\\myFiles\\nauka\\studia\\sem6\\wybrane zagadnienia sztucznej inteligencji\\laby\\analiza_danych\\corrected_app\\general\\k_means.py:38\u001b[39m, in \u001b[36mget_closest_centroid_id\u001b[39m\u001b[34m(centroids, datapoint, exclude_attributes_ids, calculate_distance_function)\u001b[39m\n\u001b[32m     36\u001b[39m min_index = -\u001b[32m1\u001b[39m\n\u001b[32m     37\u001b[39m \u001b[38;5;28;01mfor\u001b[39;00m i, centroid \u001b[38;5;129;01min\u001b[39;00m \u001b[38;5;28menumerate\u001b[39m(centroids):\n\u001b[32m---> \u001b[39m\u001b[32m38\u001b[39m     distance = \u001b[43mcalculate_distance_function\u001b[49m\u001b[43m(\u001b[49m\u001b[43mcentroid\u001b[49m\u001b[43m,\u001b[49m\u001b[43m \u001b[49m\u001b[43mdatapoint\u001b[49m\u001b[43m,\u001b[49m\u001b[43m \u001b[49m\u001b[43mexclude_attributes_ids\u001b[49m\u001b[43m)\u001b[49m\n\u001b[32m     39\u001b[39m     \u001b[38;5;28;01mif\u001b[39;00m distance < min_distance:\n\u001b[32m     40\u001b[39m         min_distance = distance\n",
      "\u001b[36mFile \u001b[39m\u001b[32mc:\\Users\\Lenovo\\myFiles\\nauka\\studia\\sem6\\wybrane zagadnienia sztucznej inteligencji\\laby\\analiza_danych\\corrected_app\\general\\distance_calculation.py:16\u001b[39m, in \u001b[36mget_euclidean_distance\u001b[39m\u001b[34m(first_point, second_point, exclude_attributes_ids)\u001b[39m\n\u001b[32m      5\u001b[39m \u001b[38;5;250m\u001b[39m\u001b[33;03m\"\"\"Calculates the Euclidean distance between two points, excluding specified attributes.\u001b[39;00m\n\u001b[32m      6\u001b[39m \n\u001b[32m      7\u001b[39m \u001b[33;03mArgs:\u001b[39;00m\n\u001b[32m   (...)\u001b[39m\u001b[32m     13\u001b[39m \u001b[33;03m    float: The Euclidean distance between the two points.\u001b[39;00m\n\u001b[32m     14\u001b[39m \u001b[33;03m\"\"\"\u001b[39;00m\n\u001b[32m     15\u001b[39m total = \u001b[32m0\u001b[39m\n\u001b[32m---> \u001b[39m\u001b[32m16\u001b[39m \u001b[38;5;28;01mfor\u001b[39;00m i \u001b[38;5;129;01min\u001b[39;00m \u001b[38;5;28mrange\u001b[39m(\u001b[38;5;28;43mlen\u001b[39;49m\u001b[43m(\u001b[49m\u001b[43mfirst_point\u001b[49m\u001b[43m)\u001b[49m):\n\u001b[32m     17\u001b[39m     \u001b[38;5;28;01mif\u001b[39;00m i \u001b[38;5;129;01mnot\u001b[39;00m \u001b[38;5;129;01min\u001b[39;00m exclude_attributes_ids:\n\u001b[32m     18\u001b[39m         total += (first_point[i] - second_point[i]) ** \u001b[32m2\u001b[39m\n",
      "\u001b[31mTypeError\u001b[39m: object of type 'NoneType' has no len()"
     ]
    }
   ],
   "source": [
    "# results for different number of clusters\n",
    "\n",
    "results = []\n",
    "\n",
    "for k in range(2, 11):\n",
    "    clusters, centroids = healthcare_noshows_loop(no_of_iterations=4, no_of_clusters=k, calculate_distance_function=get_euclidean_distance)\n",
    "    \n",
    "    cluster_sizes = [get_cluster_size(cluster) for cluster in clusters]\n",
    "    avg_distances = [get_avg_distance_from_centroid_in_a_cluster(cluster, centroids[i], [], get_euclidean_distance) for i, cluster in enumerate(clusters)]\n",
    "    max_distances = [get_max_distance_from_centroid_in_a_cluster(cluster, centroids[i], [], get_euclidean_distance) for i, cluster in enumerate(clusters)]\n",
    "\n",
    "    results.append({\n",
    "        \"k\": k,\n",
    "        \"avg_cluster_size\": sum(cluster_sizes) / len(cluster_sizes),\n",
    "        \"avg_distance\": sum(avg_distances) / len(avg_distances),\n",
    "        \"max_distance\": max(max_distances)\n",
    "    })\n",
    "\n",
    "fig, axs = plt.subplots(1, 3, figsize=(18, 5))\n",
    "ks = [res[\"k\"] for res in results]\n",
    "\n",
    "# avg cluster size vs number of clusters\n",
    "avg_cluster_sizes = [res[\"avg_cluster_size\"] for res in results]\n",
    "axs[0].plot(ks, avg_cluster_sizes, marker='o', linestyle='-', color='g', label=\"Avg Cluster Size\")\n",
    "axs[0].set_xlabel(\"Number of Clusters (k)\")\n",
    "axs[0].set_ylabel(\"Average Cluster Size\")\n",
    "axs[0].set_title(\"Cluster Size vs Number of Clusters\")\n",
    "axs[0].legend()\n",
    "\n",
    "# avg distance to centroid vs number of clusters\n",
    "avg_distances = [res[\"avg_distance\"] for res in results]\n",
    "axs[1].plot(ks, avg_distances, marker='o', linestyle='-', color='b', label=\"Avg Distance\")\n",
    "axs[1].set_xlabel(\"Number of Clusters (k)\")\n",
    "axs[1].set_ylabel(\"Average Distance to Centroid\")\n",
    "axs[1].set_title(\"Avg Distance vs Number of Clusters\")\n",
    "axs[1].legend()\n",
    "\n",
    "# max distance to centroid vs number of clusters\n",
    "max_distances = [res[\"max_distance\"] for res in results]\n",
    "axs[2].plot(ks, max_distances, marker='o', linestyle='-', color='r', label=\"Max Distance\")\n",
    "axs[2].set_xlabel(\"Number of Clusters (k)\")\n",
    "axs[2].set_ylabel(\"Max Distance to Centroid\")\n",
    "axs[2].set_title(\"Max Distance vs Number of Clusters\")\n",
    "axs[2].legend()\n",
    "\n",
    "plt.tight_layout()\n",
    "plt.show()\n"
   ]
  },
  {
   "cell_type": "markdown",
   "metadata": {},
   "source": [
    "**Conclusion**: Based on the rate of change of slope of average distance from a centroid vs number of clusters, the optimal number of clusters seem to be 5 or 6."
   ]
  },
  {
   "cell_type": "markdown",
   "metadata": {},
   "source": [
    "## Check the influence of number of iterations"
   ]
  },
  {
   "cell_type": "code",
   "execution_count": null,
   "metadata": {},
   "outputs": [],
   "source": [
    "# results for different number of iterations\n",
    "\n",
    "results = []\n",
    "\n",
    "for n in range(2, 31):\n",
    "    clusters, centroids = healthcare_noshows_loop(no_of_iterations=n, no_of_clusters=5, calculate_distance_function=get_euclidean_distance)\n",
    "    \n",
    "    cluster_sizes = [get_cluster_size(cluster) for cluster in clusters]\n",
    "    avg_distances = [get_avg_distance_from_centroid_in_a_cluster(cluster, centroids[i], [], get_euclidean_distance) for i, cluster in enumerate(clusters)]\n",
    "    max_distances = [get_max_distance_from_centroid_in_a_cluster(cluster, centroids[i], [], get_euclidean_distance) for i, cluster in enumerate(clusters)]\n",
    "\n",
    "    results.append({\n",
    "        \"n\": n,\n",
    "        \"avg_cluster_size\": sum(cluster_sizes) / len(cluster_sizes),\n",
    "        \"avg_distance\": sum(avg_distances) / len(avg_distances),\n",
    "        \"max_distance\": max(max_distances)\n",
    "    })\n",
    "\n",
    "fig, axs = plt.subplots(1, 3, figsize=(18, 5))\n",
    "ns = [res[\"n\"] for res in results]\n",
    "\n",
    "# avg cluster size vs number of clusters\n",
    "avg_cluster_sizes = [res[\"avg_cluster_size\"] for res in results]\n",
    "axs[0].plot(ns, avg_cluster_sizes, marker='o', linestyle='-', color='g', label=\"Avg Cluster Size\")\n",
    "axs[0].set_xlabel(\"Number of Iterations (n)\")\n",
    "axs[0].set_ylabel(\"Average Cluster Size\")\n",
    "axs[0].set_title(\"Cluster Size vs Number of Iterations\")\n",
    "axs[0].legend()\n",
    "\n",
    "# avg distance to centroid vs number of clusters\n",
    "avg_distances = [res[\"avg_distance\"] for res in results]\n",
    "axs[1].plot(ns, avg_distances, marker='o', linestyle='-', color='b', label=\"Avg Distance\")\n",
    "axs[1].set_xlabel(\"Number of Iterations (n)\")\n",
    "axs[1].set_ylabel(\"Average Distance to Centroid\")\n",
    "axs[1].set_title(\"Avg Distance vs Number of Iterations\")\n",
    "axs[1].legend()\n",
    "\n",
    "# max distance to centroid vs number of clusters\n",
    "max_distances = [res[\"max_distance\"] for res in results]\n",
    "axs[2].plot(ns, max_distances, marker='o', linestyle='-', color='r', label=\"Max Distance\")\n",
    "axs[2].set_xlabel(\"Number of Iterations (n)\")\n",
    "axs[2].set_ylabel(\"Max Distance to Centroid\")\n",
    "axs[2].set_title(\"Max Distance vs Number of Iterations\")\n",
    "axs[2].legend()\n",
    "\n",
    "plt.tight_layout()\n",
    "plt.show()"
   ]
  },
  {
   "cell_type": "markdown",
   "metadata": {},
   "source": [
    "**Conclusion**: The number of iterations doesn't have any stable impact on the metrics - it points to issues with how the algorithm is structured, for example the initial centroids might be chosen wrongly."
   ]
  },
  {
   "cell_type": "markdown",
   "metadata": {},
   "source": [
    "## Check the influence of distance calculating method"
   ]
  },
  {
   "cell_type": "code",
   "execution_count": null,
   "metadata": {},
   "outputs": [],
   "source": [
    "# results for euclidean vs manhattan distance calculation\n",
    "\n",
    "results = []\n",
    "\n",
    "clusters, centroids = healthcare_noshows_loop(no_of_iterations=10, no_of_clusters=5, calculate_distance_function=get_euclidean_distance)\n",
    "\n",
    "cluster_sizes = [get_cluster_size(cluster) for cluster in clusters]\n",
    "avg_distances = [get_avg_distance_from_centroid_in_a_cluster(cluster, centroids[i], [1], get_euclidean_distance) for i, cluster in enumerate(clusters)]\n",
    "max_distances = [get_max_distance_from_centroid_in_a_cluster(cluster, centroids[i], [1], get_euclidean_distance) for i, cluster in enumerate(clusters)]\n",
    "\n",
    "results.append({\n",
    "    \"method\": \"Euclidean\",\n",
    "    \"avg_cluster_size\": sum(cluster_sizes) / len(cluster_sizes),\n",
    "    \"avg_distance\": sum(avg_distances) / len(avg_distances),\n",
    "    \"max_distance\": max(max_distances)\n",
    "})\n",
    "\n",
    "clusters, centroids = healthcare_noshows_loop(no_of_iterations=10, no_of_clusters=5, calculate_distance_function=get_manhattan_distance)\n",
    "\n",
    "cluster_sizes = [get_cluster_size(cluster) for cluster in clusters]\n",
    "avg_distances = [get_avg_distance_from_centroid_in_a_cluster(cluster, centroids[i], [], get_manhattan_distance) for i, cluster in enumerate(clusters)]\n",
    "max_distances = [get_max_distance_from_centroid_in_a_cluster(cluster, centroids[i], [], get_manhattan_distance) for i, cluster in enumerate(clusters)]\n",
    "\n",
    "results.append({\n",
    "    \"method\": \"Manhattan\",\n",
    "    \"avg_cluster_size\": sum(cluster_sizes) / len(cluster_sizes),\n",
    "    \"avg_distance\": sum(avg_distances) / len(avg_distances),\n",
    "    \"max_distance\": max(max_distances)\n",
    "})\n",
    "\n",
    "for result in results:\n",
    "    print(f\"Method: {result[\"method\"]}\")\n",
    "    print(f\"\\tAvg cluster size: {result[\"avg_cluster_size\"]}\")\n",
    "    print(f\"\\tAvg distance from centroid: {result[\"avg_distance\"]}\")\n",
    "    print(f\"\\tMax distance from centroid: {result[\"max_distance\"]}\")"
   ]
  },
  {
   "cell_type": "markdown",
   "metadata": {},
   "source": [
    "**Conclusion**: The Euclidean method produces better results."
   ]
  },
  {
   "cell_type": "markdown",
   "metadata": {},
   "source": [
    "## Final data analysis"
   ]
  },
  {
   "cell_type": "code",
   "execution_count": null,
   "metadata": {},
   "outputs": [],
   "source": [
    "clusters, centroids = healthcare_noshows_loop(no_of_iterations=10, no_of_clusters=5, calculate_distance_function=get_euclidean_distance)\n",
    "\n",
    "centroids = denormalize_data(centroids, healthcare_noshows_denormalize_row)\n",
    "\n",
    "for i, centroid in enumerate(centroids):\n",
    "    print(f\"CENTROID NO {i}: {centroid}\")"
   ]
  }
 ],
 "metadata": {
  "kernelspec": {
   "display_name": ".venv",
   "language": "python",
   "name": "python3"
  },
  "language_info": {
   "codemirror_mode": {
    "name": "ipython",
    "version": 3
   },
   "file_extension": ".py",
   "mimetype": "text/x-python",
   "name": "python",
   "nbconvert_exporter": "python",
   "pygments_lexer": "ipython3",
   "version": "3.13.2"
  }
 },
 "nbformat": 4,
 "nbformat_minor": 2
}
