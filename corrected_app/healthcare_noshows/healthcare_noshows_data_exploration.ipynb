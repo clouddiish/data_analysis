{
 "cells": [
  {
   "cell_type": "code",
   "execution_count": 2,
   "metadata": {},
   "outputs": [],
   "source": [
    "import sys\n",
    "\n",
    "PROJECT_ROOT_ABS_FILEPATH=\"c:\\\\Users\\\\Lenovo\\\\myFiles\\\\nauka\\\\studia\\\\sem6\\\\wybrane zagadnienia sztucznej inteligencji\\\\laby\\\\analiza_danych\"\n",
    "\n",
    "sys.path.append(PROJECT_ROOT_ABS_FILEPATH)"
   ]
  },
  {
   "cell_type": "code",
   "execution_count": 3,
   "metadata": {},
   "outputs": [],
   "source": [
    "import csv\n",
    "\n",
    "from corrected_app.configs.configs import HEALTHCARE_NOSHOWS_ABS_FILEPATH"
   ]
  },
  {
   "cell_type": "code",
   "execution_count": null,
   "metadata": {},
   "outputs": [
    {
     "name": "stdout",
     "output_type": "stream",
     "text": [
      "{'BELA VISTA', 'PONTAL DE CAMBURI', 'FONTE GRANDE', 'ENSEADA DO SUÁ', 'VILA RUBIM', 'JUCUTUQUARA', 'FORTE SÃO JOÃO', 'DO QUADRO', 'COMDUSA', 'JABOUR', 'HORTO', 'AEROPORTO', 'DE LOURDES', 'SOLON BORGES', 'NAZARETH', 'MARUÍPE', 'ESTRELINHA', 'MATA DA PRAIA', 'JOANA D´ARC', 'BARRO VERMELHO', 'DO CABRAL', 'BENTO FERREIRA', 'ILHA DO BOI', 'NOVA PALESTINA', 'INHANGUETÁ', 'SÃO PEDRO', 'MONTE BELO', 'ILHA DO FRADE', 'PIEDADE', 'CONQUISTA', 'SANTA CECÍLIA', 'JARDIM DA PENHA', 'SANTO ANDRÉ', 'SÃO JOSÉ', 'ROMÃO', 'TABUAZEIRO', 'SANTA MARTHA', 'PARQUE MOSCOSO', 'SANTA CLARA', 'DA PENHA', 'SANTA HELENA', 'GURIGICA', 'CRUZAMENTO', 'RESISTÊNCIA', 'ILHA DO PRÍNCIPE', 'CARATOÍRA', 'SEGURANÇA DO LAR', 'CONSOLAÇÃO', 'SÃO CRISTÓVÃO', 'SANTA TEREZA', 'JESUS DE NAZARETH', 'MÁRIO CYPRESTE', 'ILHA DAS CAIEIRAS', 'BOA VISTA', 'SANTOS DUMONT', 'SÃO BENEDITO', 'GOIABEIRAS', 'JARDIM CAMBURI', 'PRAIA DO CANTO', 'MARIA ORTIZ', 'REDENÇÃO', 'ILHAS OCEÂNICAS DE TRINDADE', 'SANTOS REIS', 'CENTRO', 'ITARARÉ', 'DO MOSCOSO', 'ANDORINHAS', 'SANTO ANTÔNIO', 'BONFIM', 'PRAIA DO SUÁ', 'ARIOVALDO FAVALESSA', 'REPÚBLICA', 'PARQUE INDUSTRIAL', 'MORADA DE CAMBURI', 'ILHA DE SANTA MARIA', 'UNIVERSITÁRIO', 'FRADINHOS', 'GRANDE VITÓRIA', 'ANTÔNIO HONÓRIO', 'SANTA LÚCIA', 'SANTA LUÍZA'}\n",
      "Max age: 99, min age: 1\n",
      "Max date diff: 98, min date diff: -1\n"
     ]
    }
   ],
   "source": [
    "with open(HEALTHCARE_NOSHOWS_ABS_FILEPATH, \"r\", encoding=\"utf8\") as file:\n",
    "    neighbourhoods = set()\n",
    "    ages = set()\n",
    "    date_differences = set()\n",
    "    no_fem = 0\n",
    "    no_male = 0\n",
    "    reader = csv.DictReader(file)\n",
    "    for row in reader:\n",
    "        neighbourhoods.add(row[\"Neighbourhood\"])\n",
    "        ages.add(row[\"Age\"])\n",
    "        date_differences.add(row[\"Date.diff\"])\n",
    "        if row[\"Gender\"] == \"F\":\n",
    "            no_fem += 1\n",
    "        else:\n",
    "            no_male += 1\n",
    "\n",
    "print(neighbourhoods)\n",
    "print(f\"Max age: {max(ages)}, min age: {min(ages)}\")\n",
    "print(f\"Max date diff: {max(date_differences)}, min date diff: {min(date_differences)}\")\n",
    "print(f\"Females: {no_fem}, males: {no_male}\")"
   ]
  }
 ],
 "metadata": {
  "kernelspec": {
   "display_name": ".venv",
   "language": "python",
   "name": "python3"
  },
  "language_info": {
   "codemirror_mode": {
    "name": "ipython",
    "version": 3
   },
   "file_extension": ".py",
   "mimetype": "text/x-python",
   "name": "python",
   "nbconvert_exporter": "python",
   "pygments_lexer": "ipython3",
   "version": "3.13.2"
  }
 },
 "nbformat": 4,
 "nbformat_minor": 2
}
